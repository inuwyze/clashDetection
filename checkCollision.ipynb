{
 "metadata": {
  "language_info": {
   "codemirror_mode": {
    "name": "ipython",
    "version": 3
   },
   "file_extension": ".py",
   "mimetype": "text/x-python",
   "name": "python",
   "nbconvert_exporter": "python",
   "pygments_lexer": "ipython3",
   "version": "3.7.4-final"
  },
  "orig_nbformat": 2,
  "kernelspec": {
   "name": "python3",
   "display_name": "Python 3.7.4 32-bit",
   "metadata": {
    "interpreter": {
     "hash": "378b5933d7440af72b272972b00016984f867e5c35dd4f56f11ce3af81f7077f"
    }
   }
  }
 },
 "nbformat": 4,
 "nbformat_minor": 2,
 "cells": [
  {
   "cell_type": "code",
   "execution_count": 57,
   "metadata": {},
   "outputs": [
    {
     "output_type": "stream",
     "name": "stdout",
     "text": [
      "{'S5': {'Monday': [11.75, 12.75], 'Tuesday': [9.75, 10.75], 'Thursday': [14.75, 15.75], 'Saturday': [11.75, 12.5]}, 'L12': {'Thursday': [13.75, 15.75]}, 'S3': {'Wednesday': [13.75, 14.75], 'Thursday': [8.75, 9.75], 'Friday': [9.75, 10.75], 'Saturday': [10.25, 11.0]}, 'S4': {'Tuesday': [10.75, 11.75], 'Thursday': [13.75, 14.75], 'Friday': [8.75, 9.75], 'Saturday': [11.0, 11.75]}, 'L4': {'Thursday': [8.75, 10.75]}, 'S8': {'Monday': [9.75, 10.75], 'Wednesday': [14.75, 15.75], 'Thursday': [11.75, 12.75], 'Saturday': [13.5, 14.25]}, 'S1': {'Monday': [13.75, 14.75], 'Tuesday': [8.75, 9.75], 'Wednesday': [10.75, 11.75], 'Saturday': [8.75, 9.5]}, 'S2': {'Wednesday': [8.75, 9.75], 'Thursday': [10.75, 11.75], 'Friday': [13.75, 14.75], 'Saturday': [9.5, 10.25]}, 'S9': {'Monday': [10.75, 11.75], 'Tuesday': [13.75, 14.75], 'Friday': [11.75, 12.75], 'Saturday': [14.25, 15.0]}, 'S6': {'Monday': [8.75, 9.75], 'Tuesday': [11.75, 12.75], 'Wednesday': [9.75, 10.75], 'Saturday': [15.0, 15.75]}, 'S7': {'Wednesday': [11.75, 12.75], 'Thursday': [9.75, 10.75], 'Friday': [10.75, 11.75], 'Saturday': [16.75, 17.5]}, 'S1+L1': {'Monday': [8.75, 10.75], 'Tuesday': [8.75, 9.75], 'Saturday': [8.75, 9.5]}, 'S2+L4': {'Wednesday': [8.75, 9.75], 'Thursday': [8.75, 10.75], 'Friday': [13.75, 14.75], 'Saturday': [9.5, 10.25]}, 'S7+L6': {'Wednesday': [11.75, 12.75], 'Thursday': [9.75, 10.75], 'Friday': [10.75, 11.75], 'Saturday': [16.75, 17.5], 'Monday': [10.75, 12.75]}, 'S8+L9': {'Monday': [13.75, 15.75], 'Wednesday': [14.75, 15.75], 'Thursday': [11.75, 12.75], 'Saturday': [13.5, 14.25]}, 'S3+L3': {'Wednesday': [8.75, 10.75], 'Friday': [9.75, 10.75], 'Saturday': [10.25, 11.0]}, 'S2+L2': {'Wednesday': [8.75, 9.75], 'Friday': [13.75, 14.75], 'Saturday': [9.5, 10.25], 'Tuesday': [8.75, 10.75]}, 'S9+L9': {'Monday': [13.75, 15.75], 'Tuesday': [13.75, 14.75], 'Friday': [11.75, 12.75], 'Saturday': [14.25, 15.0]}, 'S5+L5': {'Tuesday': [10.75, 12.75], 'Thursday': [14.75, 15.75], 'Saturday': [11.75, 12.5]}, 'S6+L6': {'Tuesday': [11.75, 12.75], 'Wednesday': [9.75, 10.75], 'Saturday': [15.0, 15.75], 'Monday': [10.75, 12.75]}, 'S4+L4': {'Tuesday': [10.75, 11.75], 'Thursday': [8.75, 10.75], 'Saturday': [11.0, 11.75]}, 'S7+L7': {'Wednesday': [11.75, 12.75], 'Friday': [10.75, 11.75], 'Saturday': [16.75, 17.5], 'Thursday': [10.75, 12.75]}, 'L9': {'Monday': [13.75, 15.75]}, 'L1': {'Monday': [8.75, 10.75]}, 'L2': {'Tuesday': [8.75, 10.75]}, 'L7': {'Thursday': [10.75, 12.75]}, 'L6': {'Monday': [10.75, 12.75]}, 'L8': {'Wednesday': [10.75, 12.75]}, 'L11': {'Wednesday': [13.75, 15.75]}, 'L13': {'Friday': [13.75, 15.75]}, 'L14': {'Friday': [8.75, 10.75]}, 'L15': {'Tuesday': [13.75, 15.75]}, 'L3': {'Wednesday': [8.75, 10.75]}, 'L10': {'Friday': [10.75, 12.75]}, 'L5': {'Tuesday': [10.75, 12.75]}}\n"
     ]
    }
   ],
   "source": [
    "import json\n",
    "\n",
    "f = open('slotTimings.json',) \n",
    "slotTimings=json.load(f)\n",
    "print(slotTimings)"
   ]
  },
  {
   "cell_type": "code",
   "execution_count": 58,
   "metadata": {},
   "outputs": [],
   "source": [
    "\n",
    "s_slot = {k:v for k,v in slotTimings.items() if 'L' not in k}\n",
    "l_slot = {k:v for k,v in slotTimings.items() if 'S' not in k  }\n"
   ]
  },
  {
   "cell_type": "code",
   "execution_count": 59,
   "metadata": {},
   "outputs": [
    {
     "output_type": "stream",
     "name": "stdout",
     "text": [
      "S5 {'Monday': [11.75, 12.75], 'Tuesday': [9.75, 10.75], 'Thursday': [14.75, 15.75], 'Saturday': [11.75, 12.5]}\nS3 {'Wednesday': [13.75, 14.75], 'Thursday': [8.75, 9.75], 'Friday': [9.75, 10.75], 'Saturday': [10.25, 11.0]}\nS4 {'Tuesday': [10.75, 11.75], 'Thursday': [13.75, 14.75], 'Friday': [8.75, 9.75], 'Saturday': [11.0, 11.75]}\nS8 {'Monday': [9.75, 10.75], 'Wednesday': [14.75, 15.75], 'Thursday': [11.75, 12.75], 'Saturday': [13.5, 14.25]}\nS1 {'Monday': [13.75, 14.75], 'Tuesday': [8.75, 9.75], 'Wednesday': [10.75, 11.75], 'Saturday': [8.75, 9.5]}\nS2 {'Wednesday': [8.75, 9.75], 'Thursday': [10.75, 11.75], 'Friday': [13.75, 14.75], 'Saturday': [9.5, 10.25]}\nS9 {'Monday': [10.75, 11.75], 'Tuesday': [13.75, 14.75], 'Friday': [11.75, 12.75], 'Saturday': [14.25, 15.0]}\nS6 {'Monday': [8.75, 9.75], 'Tuesday': [11.75, 12.75], 'Wednesday': [9.75, 10.75], 'Saturday': [15.0, 15.75]}\nS7 {'Wednesday': [11.75, 12.75], 'Thursday': [9.75, 10.75], 'Friday': [10.75, 11.75], 'Saturday': [16.75, 17.5]}\nL12 {'Thursday': [13.75, 15.75]}\nL4 {'Thursday': [8.75, 10.75]}\nL9 {'Monday': [13.75, 15.75]}\nL1 {'Monday': [8.75, 10.75]}\nL2 {'Tuesday': [8.75, 10.75]}\nL7 {'Thursday': [10.75, 12.75]}\nL6 {'Monday': [10.75, 12.75]}\nL8 {'Wednesday': [10.75, 12.75]}\nL11 {'Wednesday': [13.75, 15.75]}\nL13 {'Friday': [13.75, 15.75]}\nL14 {'Friday': [8.75, 10.75]}\nL15 {'Tuesday': [13.75, 15.75]}\nL3 {'Wednesday': [8.75, 10.75]}\nL10 {'Friday': [10.75, 12.75]}\nL5 {'Tuesday': [10.75, 12.75]}\n"
     ]
    }
   ],
   "source": [
    "for x,y in s_slot.items():\n",
    "    print(x,y)\n",
    "for x,y in l_slot.items():\n",
    "    print(x,y)"
   ]
  },
  {
   "cell_type": "code",
   "execution_count": 64,
   "metadata": {},
   "outputs": [],
   "source": [
    "from collections import defaultdict\n",
    "clashes = defaultdict(list)\n",
    "# from collections import OrderedDict\n",
    "# clashes = OrderedDict()\n",
    "# for x in sorted(slotTimings):\n",
    "#     if 'L' not in x or 'S' not in x:\n",
    "#         clashes[x]=[]\n",
    "\n",
    "for x in s_slot:\n",
    "    for y in l_slot:\n",
    "        \n",
    "        day=list(l_slot[y].keys())[0]\n",
    "        if day in s_slot[x]:\n",
    "            if s_slot[x][day][0]<l_slot[y][day][1] and s_slot[x][day][1]>l_slot[y][day][0]:\n",
    "                # print(x,y)\n",
    "                # print(s_slot[x][day])\n",
    "                # print(l_slot[y][day])\n",
    "                \n",
    "                clashes[x].append(y)\n",
    "                clashes[y].append(x)\n",
    "\n",
    "# print(clashes)\n",
    "        \n",
    "        \n",
    "        \n"
   ]
  },
  {
   "cell_type": "code",
   "execution_count": 65,
   "metadata": {},
   "outputs": [
    {
     "output_type": "stream",
     "name": "stdout",
     "text": [
      "S5 ['L12', 'L2', 'L6']\nL12 ['S5', 'S4']\nL2 ['S5', 'S1']\nL6 ['S5', 'S9']\nS3 ['L4', 'L11', 'L14']\nL4 ['S3', 'S7']\nL11 ['S3', 'S8']\nL14 ['S3', 'S4']\nS4 ['L12', 'L14', 'L5']\nL5 ['S4', 'S6']\nS8 ['L1', 'L7', 'L11']\nL1 ['S8', 'S6']\nL7 ['S8', 'S2']\nS1 ['L9', 'L2', 'L8']\nL9 ['S1']\nL8 ['S1', 'S7']\nS2 ['L7', 'L13', 'L3']\nL13 ['S2']\nL3 ['S2', 'S6']\nS9 ['L6', 'L15', 'L10']\nL15 ['S9']\nL10 ['S9', 'S7']\nS6 ['L1', 'L3', 'L5']\nS7 ['L4', 'L8', 'L10']\n"
     ]
    }
   ],
   "source": [
    "\n",
    "for x,y in clashes.items():\n",
    "    print(x,y)\n"
   ]
  },
  {
   "cell_type": "code",
   "execution_count": 66,
   "metadata": {},
   "outputs": [
    {
     "output_type": "error",
     "ename": "FileNotFoundError",
     "evalue": "[Errno 2] No such file or directory: 'clashes.json'",
     "traceback": [
      "\u001b[1;31m---------------------------------------------------------------------------\u001b[0m",
      "\u001b[1;31mFileNotFoundError\u001b[0m                         Traceback (most recent call last)",
      "\u001b[1;32m<ipython-input-66-1a9d06dae994>\u001b[0m in \u001b[0;36m<module>\u001b[1;34m\u001b[0m\n\u001b[0;32m      1\u001b[0m \u001b[1;32mimport\u001b[0m \u001b[0mjson\u001b[0m\u001b[1;33m\u001b[0m\u001b[1;33m\u001b[0m\u001b[0m\n\u001b[1;32m----> 2\u001b[1;33m \u001b[1;32mwith\u001b[0m \u001b[0mopen\u001b[0m\u001b[1;33m(\u001b[0m\u001b[1;34m'clashes.json'\u001b[0m\u001b[1;33m)\u001b[0m\u001b[1;32mas\u001b[0m \u001b[0mclashesJSON\u001b[0m\u001b[1;33m:\u001b[0m\u001b[1;33m\u001b[0m\u001b[1;33m\u001b[0m\u001b[0m\n\u001b[0m\u001b[0;32m      3\u001b[0m     \u001b[0mjson\u001b[0m\u001b[1;33m.\u001b[0m\u001b[0mdump\u001b[0m\u001b[1;33m(\u001b[0m\u001b[0mclashes\u001b[0m\u001b[1;33m,\u001b[0m\u001b[0mclashesJSON\u001b[0m\u001b[1;33m,\u001b[0m\u001b[0mindent\u001b[0m\u001b[1;33m=\u001b[0m\u001b[1;36m4\u001b[0m\u001b[1;33m)\u001b[0m\u001b[1;33m\u001b[0m\u001b[1;33m\u001b[0m\u001b[0m\n",
      "\u001b[1;31mFileNotFoundError\u001b[0m: [Errno 2] No such file or directory: 'clashes.json'"
     ]
    }
   ],
   "source": [
    "import json\n",
    "with open('clashes.json','w')as clashesJSON:\n",
    "    json.dump(clashes,clashesJSON,indent=4)"
   ]
  },
  {
   "cell_type": "code",
   "execution_count": null,
   "metadata": {},
   "outputs": [],
   "source": []
  }
 ]
}